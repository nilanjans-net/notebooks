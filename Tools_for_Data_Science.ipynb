{
    "cells": [
        {
            "cell_type": "markdown",
            "metadata": {
                "collapsed": true
            },
            "source": "# My Jupyter Notebook on IBM Watson Studio"
        },
        {
            "cell_type": "markdown",
            "metadata": {},
            "source": "**Nilanjan Sen**\n\nSoftware Developer"
        },
        {
            "cell_type": "markdown",
            "metadata": {},
            "source": "*I am interested in data science because I love to find insights from data. I also love playing with data.*"
        },
        {
            "cell_type": "markdown",
            "metadata": {},
            "source": "### My code is supposed to add 2 number variables and print the output"
        },
        {
            "cell_type": "code",
            "execution_count": 1,
            "metadata": {},
            "outputs": [
                {
                    "name": "stdout",
                    "output_type": "stream",
                    "text": "3\n"
                }
            ],
            "source": "def findSum(a,b):\n    return a+b\n\nprint(findSum(1,2))\n"
        },
        {
            "cell_type": "markdown",
            "metadata": {},
            "source": "Numbered list below:\n\n1. List Item 1\n1. List Item 2\n1. List Item 3\n\nBulleted list below:\n* List Item 1\n* List Item 2\n* List Item 3\n\nHyperlink below:\n\n<https://www.google.com>\n\nStrikethrough below:\n\n~~This line is deleted.~~\n\n"
        }
    ],
    "metadata": {
        "kernelspec": {
            "display_name": "Python 3.6",
            "language": "python",
            "name": "python3"
        },
        "language_info": {
            "codemirror_mode": {
                "name": "ipython",
                "version": 3
            },
            "file_extension": ".py",
            "mimetype": "text/x-python",
            "name": "python",
            "nbconvert_exporter": "python",
            "pygments_lexer": "ipython3",
            "version": "3.6.9"
        }
    },
    "nbformat": 4,
    "nbformat_minor": 1
}